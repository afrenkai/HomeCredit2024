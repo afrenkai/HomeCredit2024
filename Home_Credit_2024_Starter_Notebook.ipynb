{
  "metadata": {
    "kernelspec": {
      "language": "python",
      "display_name": "Python 3",
      "name": "python3"
    },
    "language_info": {
      "name": "python",
      "version": "3.10.12",
      "mimetype": "text/x-python",
      "codemirror_mode": {
        "name": "ipython",
        "version": 3
      },
      "pygments_lexer": "ipython3",
      "nbconvert_exporter": "python",
      "file_extension": ".py"
    },
    "kaggle": {
      "accelerator": "none",
      "dataSources": [
        {
          "sourceId": 50160,
          "databundleVersionId": 7921029,
          "sourceType": "competition"
        }
      ],
      "dockerImageVersionId": 30635,
      "isInternetEnabled": false,
      "language": "python",
      "sourceType": "notebook",
      "isGpuEnabled": false
    },
    "colab": {
      "name": "Home Credit 2024 Starter Notebook",
      "provenance": [],
      "include_colab_link": true
    }
  },
  "nbformat_minor": 0,
  "nbformat": 4,
  "cells": [
    {
      "cell_type": "markdown",
      "metadata": {
        "id": "view-in-github",
        "colab_type": "text"
      },
      "source": [
        "<a href=\"https://colab.research.google.com/github/afrenkai/HomeCredit2024/blob/main/Home_Credit_2024_Starter_Notebook.ipynb\" target=\"_parent\"><img src=\"https://colab.research.google.com/assets/colab-badge.svg\" alt=\"Open In Colab\"/></a>"
      ]
    },
    {
      "source": [
        "\n",
        "# IMPORTANT: RUN THIS CELL IN ORDER TO IMPORT YOUR KAGGLE DATA SOURCES\n",
        "# TO THE CORRECT LOCATION (/kaggle/input) IN YOUR NOTEBOOK,\n",
        "# THEN FEEL FREE TO DELETE THIS CELL.\n",
        "# NOTE: THIS NOTEBOOK ENVIRONMENT DIFFERS FROM KAGGLE'S PYTHON\n",
        "# ENVIRONMENT SO THERE MAY BE MISSING LIBRARIES USED BY YOUR\n",
        "# NOTEBOOK.\n",
        "\n",
        "import os\n",
        "import sys\n",
        "from tempfile import NamedTemporaryFile\n",
        "from urllib.request import urlopen\n",
        "from urllib.parse import unquote, urlparse\n",
        "from urllib.error import HTTPError\n",
        "from zipfile import ZipFile\n",
        "import tarfile\n",
        "import shutil\n",
        "\n",
        "CHUNK_SIZE = 40960\n",
        "DATA_SOURCE_MAPPING = 'home-credit-credit-risk-model-stability:https%3A%2F%2Fstorage.googleapis.com%2Fkaggle-competitions-data%2Fkaggle-v2%2F50160%2F7921029%2Fbundle%2Farchive.zip%3FX-Goog-Algorithm%3DGOOG4-RSA-SHA256%26X-Goog-Credential%3Dgcp-kaggle-com%2540kaggle-161607.iam.gserviceaccount.com%252F20240408%252Fauto%252Fstorage%252Fgoog4_request%26X-Goog-Date%3D20240408T143558Z%26X-Goog-Expires%3D259200%26X-Goog-SignedHeaders%3Dhost%26X-Goog-Signature%3D72e0b047045f8c50c7a0040ee18522194d7143d826f9b05beda06e65f404de79fe2163a3cc3f1eec1cb4237166e720f1c48c3d7faa42578070ed9cc0f35e0f23cefe15f51ee4a932ff4229f0d5a3e384ce3ac0a56b4fc3cb06bc34e45b2a25c6481268f5e1a4b43955b0024f27ea19a3a39cf43bda9fa05d415e2b2160bced62d9ea71fb023302cdafb67f7da1353d914f6b3b2bd1983c849a8beab5e387027951f534365bd51e4e733bfcee50540c0922250919c21a3bcfff81b670c14db49324d1339d454610424c1ee5c1f2978bf870445ca09774dcc7bfe6d494e6f4577c0653a43a82779019e471669c96066f9c701d9e8d749b653a66d955b838b88e15'\n",
        "\n",
        "KAGGLE_INPUT_PATH='/kaggle/input'\n",
        "KAGGLE_WORKING_PATH='/kaggle/working'\n",
        "KAGGLE_SYMLINK='kaggle'\n",
        "\n",
        "!umount /kaggle/input/ 2> /dev/null\n",
        "shutil.rmtree('/kaggle/input', ignore_errors=True)\n",
        "os.makedirs(KAGGLE_INPUT_PATH, 0o777, exist_ok=True)\n",
        "os.makedirs(KAGGLE_WORKING_PATH, 0o777, exist_ok=True)\n",
        "\n",
        "try:\n",
        "  os.symlink(KAGGLE_INPUT_PATH, os.path.join(\"..\", 'input'), target_is_directory=True)\n",
        "except FileExistsError:\n",
        "  pass\n",
        "try:\n",
        "  os.symlink(KAGGLE_WORKING_PATH, os.path.join(\"..\", 'working'), target_is_directory=True)\n",
        "except FileExistsError:\n",
        "  pass\n",
        "\n",
        "for data_source_mapping in DATA_SOURCE_MAPPING.split(','):\n",
        "    directory, download_url_encoded = data_source_mapping.split(':')\n",
        "    download_url = unquote(download_url_encoded)\n",
        "    filename = urlparse(download_url).path\n",
        "    destination_path = os.path.join(KAGGLE_INPUT_PATH, directory)\n",
        "    try:\n",
        "        with urlopen(download_url) as fileres, NamedTemporaryFile() as tfile:\n",
        "            total_length = fileres.headers['content-length']\n",
        "            print(f'Downloading {directory}, {total_length} bytes compressed')\n",
        "            dl = 0\n",
        "            data = fileres.read(CHUNK_SIZE)\n",
        "            while len(data) > 0:\n",
        "                dl += len(data)\n",
        "                tfile.write(data)\n",
        "                done = int(50 * dl / int(total_length))\n",
        "                sys.stdout.write(f\"\\r[{'=' * done}{' ' * (50-done)}] {dl} bytes downloaded\")\n",
        "                sys.stdout.flush()\n",
        "                data = fileres.read(CHUNK_SIZE)\n",
        "            if filename.endswith('.zip'):\n",
        "              with ZipFile(tfile) as zfile:\n",
        "                zfile.extractall(destination_path)\n",
        "            else:\n",
        "              with tarfile.open(tfile.name) as tarfile:\n",
        "                tarfile.extractall(destination_path)\n",
        "            print(f'\\nDownloaded and uncompressed: {directory}')\n",
        "    except HTTPError as e:\n",
        "        print(f'Failed to load (likely expired) {download_url} to path {destination_path}')\n",
        "        continue\n",
        "    except OSError as e:\n",
        "        print(f'Failed to load {download_url} to path {destination_path}')\n",
        "        continue\n",
        "\n",
        "print('Data source import complete.')\n"
      ],
      "metadata": {
        "id": "4VrhCYifIytM",
        "outputId": "a3f80c30-b989-44cb-a433-92f66a1d1105",
        "colab": {
          "base_uri": "https://localhost:8080/",
          "height": 391
        }
      },
      "cell_type": "code",
      "outputs": [
        {
          "output_type": "stream",
          "name": "stdout",
          "text": [
            "Downloading home-credit-credit-risk-model-stability, 3375704785 bytes compressed\n",
            "[====================================              ] 2456739840 bytes downloaded"
          ]
        },
        {
          "output_type": "error",
          "ename": "KeyboardInterrupt",
          "evalue": "",
          "traceback": [
            "\u001b[0;31m---------------------------------------------------------------------------\u001b[0m",
            "\u001b[0;31mKeyboardInterrupt\u001b[0m                         Traceback (most recent call last)",
            "\u001b[0;32m<ipython-input-1-42ca43123a7e>\u001b[0m in \u001b[0;36m<cell line: 39>\u001b[0;34m()\u001b[0m\n\u001b[1;32m     53\u001b[0m                 \u001b[0mdone\u001b[0m \u001b[0;34m=\u001b[0m \u001b[0mint\u001b[0m\u001b[0;34m(\u001b[0m\u001b[0;36m50\u001b[0m \u001b[0;34m*\u001b[0m \u001b[0mdl\u001b[0m \u001b[0;34m/\u001b[0m \u001b[0mint\u001b[0m\u001b[0;34m(\u001b[0m\u001b[0mtotal_length\u001b[0m\u001b[0;34m)\u001b[0m\u001b[0;34m)\u001b[0m\u001b[0;34m\u001b[0m\u001b[0;34m\u001b[0m\u001b[0m\n\u001b[1;32m     54\u001b[0m                 \u001b[0msys\u001b[0m\u001b[0;34m.\u001b[0m\u001b[0mstdout\u001b[0m\u001b[0;34m.\u001b[0m\u001b[0mwrite\u001b[0m\u001b[0;34m(\u001b[0m\u001b[0;34mf\"\\r[{'=' * done}{' ' * (50-done)}] {dl} bytes downloaded\"\u001b[0m\u001b[0;34m)\u001b[0m\u001b[0;34m\u001b[0m\u001b[0;34m\u001b[0m\u001b[0m\n\u001b[0;32m---> 55\u001b[0;31m                 \u001b[0msys\u001b[0m\u001b[0;34m.\u001b[0m\u001b[0mstdout\u001b[0m\u001b[0;34m.\u001b[0m\u001b[0mflush\u001b[0m\u001b[0;34m(\u001b[0m\u001b[0;34m)\u001b[0m\u001b[0;34m\u001b[0m\u001b[0;34m\u001b[0m\u001b[0m\n\u001b[0m\u001b[1;32m     56\u001b[0m                 \u001b[0mdata\u001b[0m \u001b[0;34m=\u001b[0m \u001b[0mfileres\u001b[0m\u001b[0;34m.\u001b[0m\u001b[0mread\u001b[0m\u001b[0;34m(\u001b[0m\u001b[0mCHUNK_SIZE\u001b[0m\u001b[0;34m)\u001b[0m\u001b[0;34m\u001b[0m\u001b[0;34m\u001b[0m\u001b[0m\n\u001b[1;32m     57\u001b[0m             \u001b[0;32mif\u001b[0m \u001b[0mfilename\u001b[0m\u001b[0;34m.\u001b[0m\u001b[0mendswith\u001b[0m\u001b[0;34m(\u001b[0m\u001b[0;34m'.zip'\u001b[0m\u001b[0;34m)\u001b[0m\u001b[0;34m:\u001b[0m\u001b[0;34m\u001b[0m\u001b[0;34m\u001b[0m\u001b[0m\n",
            "\u001b[0;32m/usr/local/lib/python3.10/dist-packages/ipykernel/iostream.py\u001b[0m in \u001b[0;36mflush\u001b[0;34m(self)\u001b[0m\n\u001b[1;32m    348\u001b[0m                 \u001b[0mself\u001b[0m\u001b[0;34m.\u001b[0m\u001b[0mpub_thread\u001b[0m\u001b[0;34m.\u001b[0m\u001b[0mschedule\u001b[0m\u001b[0;34m(\u001b[0m\u001b[0mevt\u001b[0m\u001b[0;34m.\u001b[0m\u001b[0mset\u001b[0m\u001b[0;34m)\u001b[0m\u001b[0;34m\u001b[0m\u001b[0;34m\u001b[0m\u001b[0m\n\u001b[1;32m    349\u001b[0m                 \u001b[0;31m# and give a timeout to avoid\u001b[0m\u001b[0;34m\u001b[0m\u001b[0;34m\u001b[0m\u001b[0m\n\u001b[0;32m--> 350\u001b[0;31m                 \u001b[0;32mif\u001b[0m \u001b[0;32mnot\u001b[0m \u001b[0mevt\u001b[0m\u001b[0;34m.\u001b[0m\u001b[0mwait\u001b[0m\u001b[0;34m(\u001b[0m\u001b[0mself\u001b[0m\u001b[0;34m.\u001b[0m\u001b[0mflush_timeout\u001b[0m\u001b[0;34m)\u001b[0m\u001b[0;34m:\u001b[0m\u001b[0;34m\u001b[0m\u001b[0;34m\u001b[0m\u001b[0m\n\u001b[0m\u001b[1;32m    351\u001b[0m                     \u001b[0;31m# write directly to __stderr__ instead of warning because\u001b[0m\u001b[0;34m\u001b[0m\u001b[0;34m\u001b[0m\u001b[0m\n\u001b[1;32m    352\u001b[0m                     \u001b[0;31m# if this is happening sys.stderr may be the problem.\u001b[0m\u001b[0;34m\u001b[0m\u001b[0;34m\u001b[0m\u001b[0m\n",
            "\u001b[0;32m/usr/lib/python3.10/threading.py\u001b[0m in \u001b[0;36mwait\u001b[0;34m(self, timeout)\u001b[0m\n\u001b[1;32m    605\u001b[0m             \u001b[0msignaled\u001b[0m \u001b[0;34m=\u001b[0m \u001b[0mself\u001b[0m\u001b[0;34m.\u001b[0m\u001b[0m_flag\u001b[0m\u001b[0;34m\u001b[0m\u001b[0;34m\u001b[0m\u001b[0m\n\u001b[1;32m    606\u001b[0m             \u001b[0;32mif\u001b[0m \u001b[0;32mnot\u001b[0m \u001b[0msignaled\u001b[0m\u001b[0;34m:\u001b[0m\u001b[0;34m\u001b[0m\u001b[0;34m\u001b[0m\u001b[0m\n\u001b[0;32m--> 607\u001b[0;31m                 \u001b[0msignaled\u001b[0m \u001b[0;34m=\u001b[0m \u001b[0mself\u001b[0m\u001b[0;34m.\u001b[0m\u001b[0m_cond\u001b[0m\u001b[0;34m.\u001b[0m\u001b[0mwait\u001b[0m\u001b[0;34m(\u001b[0m\u001b[0mtimeout\u001b[0m\u001b[0;34m)\u001b[0m\u001b[0;34m\u001b[0m\u001b[0;34m\u001b[0m\u001b[0m\n\u001b[0m\u001b[1;32m    608\u001b[0m             \u001b[0;32mreturn\u001b[0m \u001b[0msignaled\u001b[0m\u001b[0;34m\u001b[0m\u001b[0;34m\u001b[0m\u001b[0m\n\u001b[1;32m    609\u001b[0m \u001b[0;34m\u001b[0m\u001b[0m\n",
            "\u001b[0;32m/usr/lib/python3.10/threading.py\u001b[0m in \u001b[0;36mwait\u001b[0;34m(self, timeout)\u001b[0m\n\u001b[1;32m    322\u001b[0m             \u001b[0;32melse\u001b[0m\u001b[0;34m:\u001b[0m\u001b[0;34m\u001b[0m\u001b[0;34m\u001b[0m\u001b[0m\n\u001b[1;32m    323\u001b[0m                 \u001b[0;32mif\u001b[0m \u001b[0mtimeout\u001b[0m \u001b[0;34m>\u001b[0m \u001b[0;36m0\u001b[0m\u001b[0;34m:\u001b[0m\u001b[0;34m\u001b[0m\u001b[0;34m\u001b[0m\u001b[0m\n\u001b[0;32m--> 324\u001b[0;31m                     \u001b[0mgotit\u001b[0m \u001b[0;34m=\u001b[0m \u001b[0mwaiter\u001b[0m\u001b[0;34m.\u001b[0m\u001b[0macquire\u001b[0m\u001b[0;34m(\u001b[0m\u001b[0;32mTrue\u001b[0m\u001b[0;34m,\u001b[0m \u001b[0mtimeout\u001b[0m\u001b[0;34m)\u001b[0m\u001b[0;34m\u001b[0m\u001b[0;34m\u001b[0m\u001b[0m\n\u001b[0m\u001b[1;32m    325\u001b[0m                 \u001b[0;32melse\u001b[0m\u001b[0;34m:\u001b[0m\u001b[0;34m\u001b[0m\u001b[0;34m\u001b[0m\u001b[0m\n\u001b[1;32m    326\u001b[0m                     \u001b[0mgotit\u001b[0m \u001b[0;34m=\u001b[0m \u001b[0mwaiter\u001b[0m\u001b[0;34m.\u001b[0m\u001b[0macquire\u001b[0m\u001b[0;34m(\u001b[0m\u001b[0;32mFalse\u001b[0m\u001b[0;34m)\u001b[0m\u001b[0;34m\u001b[0m\u001b[0;34m\u001b[0m\u001b[0m\n",
            "\u001b[0;31mKeyboardInterrupt\u001b[0m: "
          ]
        }
      ],
      "execution_count": 1
    },
    {
      "cell_type": "markdown",
      "source": [
        "# Example Notebook\n",
        "\n",
        "Welcome to the example notebook for the Home Credit Kaggle competition. The goal of this competition is to determine how likely a customer is going to default on an issued loan. The main difference between the [first](https://www.kaggle.com/c/home-credit-default-risk) and this competition is that now your submission will be scored with a custom metric that will take into account how well the model performs in future. A decline in performance will be penalized. The goal is to create a model that is stable and performs well in the future.\n",
        "\n",
        "In this notebook you will see how to:\n",
        "* Load the data\n",
        "* Join tables with Polars - a DataFrame library implemented in Rust language, designed to be blazingy fast and memory efficient.  \n",
        "* Create simple aggregation features\n",
        "* Train a LightGBM model\n",
        "* Create a submission table\n",
        "\n",
        "## Load the data"
      ],
      "metadata": {
        "_uuid": "8f2839f25d086af736a60e9eeb907d3b93b6e0e5",
        "_cell_guid": "b1076dfc-b9ad-4769-8c92-a6c4dae69d19",
        "id": "kVSoagIqIytQ"
      }
    },
    {
      "cell_type": "code",
      "source": [
        "import polars as pl\n",
        "import numpy as np\n",
        "import pandas as pd\n",
        "import lightgbm as lgb\n",
        "from sklearn.model_selection import train_test_split\n",
        "from sklearn.metrics import roc_auc_score\n",
        "\n",
        "dataPath = \"/kaggle/input/home-credit-credit-risk-model-stability/\""
      ],
      "metadata": {
        "execution": {
          "iopub.status.busy": "2024-04-08T14:24:54.406618Z",
          "iopub.execute_input": "2024-04-08T14:24:54.407178Z",
          "iopub.status.idle": "2024-04-08T14:24:54.418835Z",
          "shell.execute_reply.started": "2024-04-08T14:24:54.407131Z",
          "shell.execute_reply": "2024-04-08T14:24:54.416074Z"
        },
        "trusted": true,
        "id": "wOoMERcbIytS"
      },
      "execution_count": null,
      "outputs": []
    },
    {
      "cell_type": "code",
      "source": [
        "def set_table_dtypes(df: pl.DataFrame) -> pl.DataFrame:\n",
        "    # implement here all desired dtypes for tables\n",
        "    # the following is just an example\n",
        "    for col in df.columns:\n",
        "        # last letter of column name will help you determine the type\n",
        "        if col[-1] in (\"P\", \"A\"):\n",
        "            df = df.with_columns(pl.col(col).cast(pl.Float64).alias(col))\n",
        "\n",
        "    return df\n",
        "\n",
        "def convert_strings(df: pd.DataFrame) -> pd.DataFrame:\n",
        "    for col in df.columns:\n",
        "        if df[col].dtype.name in ['object', 'string']:\n",
        "            df[col] = df[col].astype(\"string\").astype('category')\n",
        "            current_categories = df[col].cat.categories\n",
        "            new_categories = current_categories.to_list() + [\"Unknown\"]\n",
        "            new_dtype = pd.CategoricalDtype(categories=new_categories, ordered=True)\n",
        "            df[col] = df[col].astype(new_dtype)\n",
        "    return df"
      ],
      "metadata": {
        "execution": {
          "iopub.status.busy": "2024-04-08T14:24:54.421812Z",
          "iopub.execute_input": "2024-04-08T14:24:54.422507Z",
          "iopub.status.idle": "2024-04-08T14:24:54.437683Z",
          "shell.execute_reply.started": "2024-04-08T14:24:54.422456Z",
          "shell.execute_reply": "2024-04-08T14:24:54.436615Z"
        },
        "trusted": true,
        "id": "M9i03-EcIytT"
      },
      "execution_count": null,
      "outputs": []
    },
    {
      "cell_type": "code",
      "source": [
        "train_basetable = pl.read_csv(dataPath + \"csv_files/train/train_base.csv\")\n",
        "train_static = pl.concat(\n",
        "    [\n",
        "        pl.read_csv(dataPath + \"csv_files/train/train_static_0_0.csv\").pipe(set_table_dtypes),\n",
        "        pl.read_csv(dataPath + \"csv_files/train/train_static_0_1.csv\").pipe(set_table_dtypes),\n",
        "    ],\n",
        "    how=\"vertical_relaxed\",\n",
        ")\n",
        "train_static_cb = pl.read_csv(dataPath + \"csv_files/train/train_static_cb_0.csv\").pipe(set_table_dtypes)\n",
        "train_person_1 = pl.read_csv(dataPath + \"csv_files/train/train_person_1.csv\").pipe(set_table_dtypes)\n",
        "train_credit_bureau_b_2 = pl.read_csv(dataPath + \"csv_files/train/train_credit_bureau_b_2.csv\").pipe(set_table_dtypes)"
      ],
      "metadata": {
        "execution": {
          "iopub.status.busy": "2024-04-08T14:24:54.439242Z",
          "iopub.execute_input": "2024-04-08T14:24:54.440753Z",
          "iopub.status.idle": "2024-04-08T14:25:09.862618Z",
          "shell.execute_reply.started": "2024-04-08T14:24:54.440693Z",
          "shell.execute_reply": "2024-04-08T14:25:09.861547Z"
        },
        "trusted": true,
        "id": "cG9DisEmIytU"
      },
      "execution_count": null,
      "outputs": []
    },
    {
      "cell_type": "code",
      "source": [
        "test_basetable = pl.read_csv(dataPath + \"csv_files/test/test_base.csv\")\n",
        "test_static = pl.concat(\n",
        "    [\n",
        "        pl.read_csv(dataPath + \"csv_files/test/test_static_0_0.csv\").pipe(set_table_dtypes),\n",
        "        pl.read_csv(dataPath + \"csv_files/test/test_static_0_1.csv\").pipe(set_table_dtypes),\n",
        "        pl.read_csv(dataPath + \"csv_files/test/test_static_0_2.csv\").pipe(set_table_dtypes),\n",
        "    ],\n",
        "    how=\"vertical_relaxed\",\n",
        ")\n",
        "test_static_cb = pl.read_csv(dataPath + \"csv_files/test/test_static_cb_0.csv\").pipe(set_table_dtypes)\n",
        "test_person_1 = pl.read_csv(dataPath + \"csv_files/test/test_person_1.csv\").pipe(set_table_dtypes)\n",
        "test_credit_bureau_b_2 = pl.read_csv(dataPath + \"csv_files/test/test_credit_bureau_b_2.csv\").pipe(set_table_dtypes)"
      ],
      "metadata": {
        "execution": {
          "iopub.status.busy": "2024-04-08T14:25:09.865306Z",
          "iopub.execute_input": "2024-04-08T14:25:09.866238Z",
          "iopub.status.idle": "2024-04-08T14:25:09.907855Z",
          "shell.execute_reply.started": "2024-04-08T14:25:09.866193Z",
          "shell.execute_reply": "2024-04-08T14:25:09.906846Z"
        },
        "trusted": true,
        "id": "CDrnpUoDIytV"
      },
      "execution_count": null,
      "outputs": []
    },
    {
      "cell_type": "markdown",
      "source": [
        "## Feature engineering\n",
        "\n",
        "In this part, we can see a simple example of joining tables via `case_id`. Here the loading and joining is done with polars library. Polars library is blazingly fast and has much smaller memory footprint than pandas."
      ],
      "metadata": {
        "id": "RuWBlfTIIytV"
      }
    },
    {
      "cell_type": "code",
      "source": [
        "# We need to use aggregation functions in tables with depth > 1, so tables that contain num_group1 column or\n",
        "# also num_group2 column.\n",
        "train_person_1_feats_1 = train_person_1.group_by(\"case_id\").agg(\n",
        "    pl.col(\"mainoccupationinc_384A\").max().alias(\"mainoccupationinc_384A_max\"),\n",
        "    (pl.col(\"incometype_1044T\") == \"SELFEMPLOYED\").max().alias(\"mainoccupationinc_384A_any_selfemployed\")\n",
        ")\n",
        "\n",
        "# Here num_group1=0 has special meaning, it is the person who applied for the loan.\n",
        "train_person_1_feats_2 = train_person_1.select([\"case_id\", \"num_group1\", \"housetype_905L\"]).filter(\n",
        "    pl.col(\"num_group1\") == 0\n",
        ").drop(\"num_group1\").rename({\"housetype_905L\": \"person_housetype\"})\n",
        "\n",
        "# Here we have num_goup1 and num_group2, so we need to aggregate again.\n",
        "train_credit_bureau_b_2_feats = train_credit_bureau_b_2.group_by(\"case_id\").agg(\n",
        "    pl.col(\"pmts_pmtsoverdue_635A\").max().alias(\"pmts_pmtsoverdue_635A_max\"),\n",
        "    (pl.col(\"pmts_dpdvalue_108P\") > 31).max().alias(\"pmts_dpdvalue_108P_over31\")\n",
        ")\n",
        "\n",
        "# We will process in this examples only A-type and M-type columns, so we need to select them.\n",
        "selected_static_cols = []\n",
        "for col in train_static.columns:\n",
        "    if col[-1] in (\"A\", \"M\"):\n",
        "        selected_static_cols.append(col)\n",
        "print(selected_static_cols)\n",
        "\n",
        "selected_static_cb_cols = []\n",
        "for col in train_static_cb.columns:\n",
        "    if col[-1] in (\"A\", \"M\"):\n",
        "        selected_static_cb_cols.append(col)\n",
        "print(selected_static_cb_cols)\n",
        "\n",
        "# Join all tables together.\n",
        "data = train_basetable.join(\n",
        "    train_static.select([\"case_id\"]+selected_static_cols), how=\"left\", on=\"case_id\"\n",
        ").join(\n",
        "    train_static_cb.select([\"case_id\"]+selected_static_cb_cols), how=\"left\", on=\"case_id\"\n",
        ").join(\n",
        "    train_person_1_feats_1, how=\"left\", on=\"case_id\"\n",
        ").join(\n",
        "    train_person_1_feats_2, how=\"left\", on=\"case_id\"\n",
        ").join(\n",
        "    train_credit_bureau_b_2_feats, how=\"left\", on=\"case_id\"\n",
        ")"
      ],
      "metadata": {
        "execution": {
          "iopub.status.busy": "2024-04-08T14:25:09.909558Z",
          "iopub.execute_input": "2024-04-08T14:25:09.910333Z",
          "iopub.status.idle": "2024-04-08T14:25:11.608504Z",
          "shell.execute_reply.started": "2024-04-08T14:25:09.910294Z",
          "shell.execute_reply": "2024-04-08T14:25:11.607199Z"
        },
        "trusted": true,
        "id": "CbuXhGbPIytW",
        "outputId": "fdf67fa8-c9a4-4e69-acc2-9f13c5c96651"
      },
      "execution_count": null,
      "outputs": [
        {
          "name": "stdout",
          "text": "['amtinstpaidbefduel24m_4187115A', 'annuity_780A', 'annuitynextmonth_57A', 'avginstallast24m_3658937A', 'avglnamtstart24m_4525187A', 'avgoutstandbalancel6m_4187114A', 'avgpmtlast12m_4525200A', 'credamount_770A', 'currdebt_22A', 'currdebtcredtyperange_828A', 'disbursedcredamount_1113A', 'downpmt_116A', 'inittransactionamount_650A', 'lastapprcommoditycat_1041M', 'lastapprcommoditytypec_5251766M', 'lastapprcredamount_781A', 'lastcancelreason_561M', 'lastotherinc_902A', 'lastotherlnsexpense_631A', 'lastrejectcommoditycat_161M', 'lastrejectcommodtypec_5251769M', 'lastrejectcredamount_222A', 'lastrejectreason_759M', 'lastrejectreasonclient_4145040M', 'maininc_215A', 'maxannuity_159A', 'maxannuity_4075009A', 'maxdebt4_972A', 'maxinstallast24m_3658928A', 'maxlnamtstart6m_4525199A', 'maxoutstandbalancel12m_4187113A', 'maxpmtlast3m_4525190A', 'previouscontdistrict_112M', 'price_1097A', 'sumoutstandtotal_3546847A', 'sumoutstandtotalest_4493215A', 'totaldebt_9A', 'totalsettled_863A', 'totinstallast1m_4525188A']\n['description_5085714M', 'education_1103M', 'education_88M', 'maritalst_385M', 'maritalst_893M', 'pmtaverage_3A', 'pmtaverage_4527227A', 'pmtaverage_4955615A', 'pmtssum_45A']\n",
          "output_type": "stream"
        }
      ]
    },
    {
      "cell_type": "code",
      "source": [
        "test_person_1_feats_1 = test_person_1.group_by(\"case_id\").agg(\n",
        "    pl.col(\"mainoccupationinc_384A\").max().alias(\"mainoccupationinc_384A_max\"),\n",
        "    (pl.col(\"incometype_1044T\") == \"SELFEMPLOYED\").max().alias(\"mainoccupationinc_384A_any_selfemployed\")\n",
        ")\n",
        "\n",
        "test_person_1_feats_2 = test_person_1.select([\"case_id\", \"num_group1\", \"housetype_905L\"]).filter(\n",
        "    pl.col(\"num_group1\") == 0\n",
        ").drop(\"num_group1\").rename({\"housetype_905L\": \"person_housetype\"})\n",
        "\n",
        "test_credit_bureau_b_2_feats = test_credit_bureau_b_2.group_by(\"case_id\").agg(\n",
        "    pl.col(\"pmts_pmtsoverdue_635A\").max().alias(\"pmts_pmtsoverdue_635A_max\"),\n",
        "    (pl.col(\"pmts_dpdvalue_108P\") > 31).max().alias(\"pmts_dpdvalue_108P_over31\")\n",
        ")\n",
        "\n",
        "data_submission = test_basetable.join(\n",
        "    test_static.select([\"case_id\"]+selected_static_cols), how=\"left\", on=\"case_id\"\n",
        ").join(\n",
        "    test_static_cb.select([\"case_id\"]+selected_static_cb_cols), how=\"left\", on=\"case_id\"\n",
        ").join(\n",
        "    test_person_1_feats_1, how=\"left\", on=\"case_id\"\n",
        ").join(\n",
        "    test_person_1_feats_2, how=\"left\", on=\"case_id\"\n",
        ").join(\n",
        "    test_credit_bureau_b_2_feats, how=\"left\", on=\"case_id\"\n",
        ")"
      ],
      "metadata": {
        "execution": {
          "iopub.status.busy": "2024-04-08T14:25:11.612674Z",
          "iopub.execute_input": "2024-04-08T14:25:11.613051Z",
          "iopub.status.idle": "2024-04-08T14:25:11.627406Z",
          "shell.execute_reply.started": "2024-04-08T14:25:11.61302Z",
          "shell.execute_reply": "2024-04-08T14:25:11.626296Z"
        },
        "trusted": true,
        "id": "di7_TInsIytY"
      },
      "execution_count": null,
      "outputs": []
    },
    {
      "cell_type": "code",
      "source": [
        "case_ids = data[\"case_id\"].unique().shuffle(seed=1)\n",
        "case_ids_train, case_ids_test = train_test_split(case_ids, train_size=0.6, random_state=1)\n",
        "case_ids_valid, case_ids_test = train_test_split(case_ids_test, train_size=0.5, random_state=1)\n",
        "\n",
        "cols_pred = []\n",
        "for col in data.columns:\n",
        "    if col[-1].isupper() and col[:-1].islower():\n",
        "        cols_pred.append(col)\n",
        "\n",
        "print(cols_pred)\n",
        "\n",
        "def from_polars_to_pandas(case_ids: pl.DataFrame) -> pl.DataFrame:\n",
        "    return (\n",
        "        data.filter(pl.col(\"case_id\").is_in(case_ids))[[\"case_id\", \"WEEK_NUM\", \"target\"]].to_pandas(),\n",
        "        data.filter(pl.col(\"case_id\").is_in(case_ids))[cols_pred].to_pandas(),\n",
        "        data.filter(pl.col(\"case_id\").is_in(case_ids))[\"target\"].to_pandas()\n",
        "    )\n",
        "\n",
        "base_train, X_train, y_train = from_polars_to_pandas(case_ids_train)\n",
        "base_valid, X_valid, y_valid = from_polars_to_pandas(case_ids_valid)\n",
        "base_test, X_test, y_test = from_polars_to_pandas(case_ids_test)\n",
        "\n",
        "for df in [X_train, X_valid, X_test]:\n",
        "    df = convert_strings(df)"
      ],
      "metadata": {
        "execution": {
          "iopub.status.busy": "2024-04-08T14:25:11.628768Z",
          "iopub.execute_input": "2024-04-08T14:25:11.629666Z",
          "iopub.status.idle": "2024-04-08T14:25:20.563022Z",
          "shell.execute_reply.started": "2024-04-08T14:25:11.629611Z",
          "shell.execute_reply": "2024-04-08T14:25:20.562096Z"
        },
        "trusted": true,
        "id": "CSf-7CaWIytY",
        "outputId": "25f4b113-4e2b-4a45-c0af-54bc0f607155"
      },
      "execution_count": null,
      "outputs": [
        {
          "name": "stdout",
          "text": "['amtinstpaidbefduel24m_4187115A', 'annuity_780A', 'annuitynextmonth_57A', 'avginstallast24m_3658937A', 'avglnamtstart24m_4525187A', 'avgoutstandbalancel6m_4187114A', 'avgpmtlast12m_4525200A', 'credamount_770A', 'currdebt_22A', 'currdebtcredtyperange_828A', 'disbursedcredamount_1113A', 'downpmt_116A', 'inittransactionamount_650A', 'lastapprcommoditycat_1041M', 'lastapprcommoditytypec_5251766M', 'lastapprcredamount_781A', 'lastcancelreason_561M', 'lastotherinc_902A', 'lastotherlnsexpense_631A', 'lastrejectcommoditycat_161M', 'lastrejectcommodtypec_5251769M', 'lastrejectcredamount_222A', 'lastrejectreason_759M', 'lastrejectreasonclient_4145040M', 'maininc_215A', 'maxannuity_159A', 'maxannuity_4075009A', 'maxdebt4_972A', 'maxinstallast24m_3658928A', 'maxlnamtstart6m_4525199A', 'maxoutstandbalancel12m_4187113A', 'maxpmtlast3m_4525190A', 'previouscontdistrict_112M', 'price_1097A', 'sumoutstandtotal_3546847A', 'sumoutstandtotalest_4493215A', 'totaldebt_9A', 'totalsettled_863A', 'totinstallast1m_4525188A', 'description_5085714M', 'education_1103M', 'education_88M', 'maritalst_385M', 'maritalst_893M', 'pmtaverage_3A', 'pmtaverage_4527227A', 'pmtaverage_4955615A', 'pmtssum_45A']\n",
          "output_type": "stream"
        }
      ]
    },
    {
      "cell_type": "code",
      "source": [
        "print(f\"Train: {X_train.shape}\")\n",
        "print(f\"Valid: {X_valid.shape}\")\n",
        "print(f\"Test: {X_test.shape}\")"
      ],
      "metadata": {
        "execution": {
          "iopub.status.busy": "2024-04-08T14:25:20.56454Z",
          "iopub.execute_input": "2024-04-08T14:25:20.565224Z",
          "iopub.status.idle": "2024-04-08T14:25:20.574314Z",
          "shell.execute_reply.started": "2024-04-08T14:25:20.565183Z",
          "shell.execute_reply": "2024-04-08T14:25:20.573284Z"
        },
        "trusted": true,
        "id": "pZ5Jq3-WIytZ",
        "outputId": "94a751ca-d40d-44ec-fc62-0efddcba09c9"
      },
      "execution_count": null,
      "outputs": [
        {
          "name": "stdout",
          "text": "Train: (915995, 48)\nValid: (305332, 48)\nTest: (305332, 48)\n",
          "output_type": "stream"
        }
      ]
    },
    {
      "cell_type": "markdown",
      "source": [
        "## Training LightGBM\n",
        "\n",
        "Minimal example of LightGBM training is shown below."
      ],
      "metadata": {
        "id": "YBi3sIN_IytZ"
      }
    },
    {
      "cell_type": "code",
      "source": [
        "lgb_train = lgb.Dataset(X_train, label=y_train)\n",
        "lgb_valid = lgb.Dataset(X_valid, label=y_valid, reference=lgb_train)\n",
        "\n",
        "params = {\n",
        "    \"boosting_type\": \"gbdt\",\n",
        "    \"objective\": \"binary\",\n",
        "    \"metric\": \"auc\",\n",
        "    \"max_depth\": 3,\n",
        "    \"num_leaves\": 31,\n",
        "    \"learning_rate\": 0.05,\n",
        "    \"feature_fraction\": 0.9,\n",
        "    \"bagging_fraction\": 0.8,\n",
        "    \"bagging_freq\": 5,\n",
        "    \"n_estimators\": 1000,\n",
        "    \"verbose\": -1,\n",
        "}\n",
        "\n",
        "gbm = lgb.train(\n",
        "    params,\n",
        "    lgb_train,\n",
        "    valid_sets=lgb_valid,\n",
        "    callbacks=[lgb.log_evaluation(50), lgb.early_stopping(10)]\n",
        ")"
      ],
      "metadata": {
        "execution": {
          "iopub.status.busy": "2024-04-08T14:25:20.575896Z",
          "iopub.execute_input": "2024-04-08T14:25:20.576247Z",
          "iopub.status.idle": "2024-04-08T14:26:42.534509Z",
          "shell.execute_reply.started": "2024-04-08T14:25:20.576218Z",
          "shell.execute_reply": "2024-04-08T14:26:42.533354Z"
        },
        "trusted": true,
        "id": "i5y14AfSIytZ",
        "outputId": "d1654097-591e-4ce2-b3c0-3f5d78871291"
      },
      "execution_count": null,
      "outputs": [
        {
          "name": "stderr",
          "text": "/opt/conda/lib/python3.10/site-packages/lightgbm/engine.py:177: UserWarning: Found `n_estimators` in params. Will use it instead of argument\n  _log_warning(f\"Found `{alias}` in params. Will use it instead of argument\")\n",
          "output_type": "stream"
        },
        {
          "name": "stdout",
          "text": "Training until validation scores don't improve for 10 rounds\n[50]\tvalid_0's auc: 0.705963\n[100]\tvalid_0's auc: 0.724362\n[150]\tvalid_0's auc: 0.731423\n[200]\tvalid_0's auc: 0.735874\n[250]\tvalid_0's auc: 0.739009\n[300]\tvalid_0's auc: 0.740965\n[350]\tvalid_0's auc: 0.742924\n[400]\tvalid_0's auc: 0.744582\n[450]\tvalid_0's auc: 0.745977\n[500]\tvalid_0's auc: 0.747033\n[550]\tvalid_0's auc: 0.747877\n[600]\tvalid_0's auc: 0.749039\n[650]\tvalid_0's auc: 0.750087\n[700]\tvalid_0's auc: 0.750863\nEarly stopping, best iteration is:\n[739]\tvalid_0's auc: 0.751216\n",
          "output_type": "stream"
        }
      ]
    },
    {
      "cell_type": "markdown",
      "source": [
        "Evaluation with AUC and then comparison with the stability metric is shown below."
      ],
      "metadata": {
        "id": "hlQTWyL8IytZ"
      }
    },
    {
      "cell_type": "code",
      "source": [
        "for base, X in [(base_train, X_train), (base_valid, X_valid), (base_test, X_test)]:\n",
        "    y_pred = gbm.predict(X, num_iteration=gbm.best_iteration)\n",
        "    base[\"score\"] = y_pred\n",
        "\n",
        "print(f'The AUC score on the train set is: {roc_auc_score(base_train[\"target\"], base_train[\"score\"])}')\n",
        "print(f'The AUC score on the valid set is: {roc_auc_score(base_valid[\"target\"], base_valid[\"score\"])}')\n",
        "print(f'The AUC score on the test set is: {roc_auc_score(base_test[\"target\"], base_test[\"score\"])}')"
      ],
      "metadata": {
        "execution": {
          "iopub.status.busy": "2024-04-08T14:26:42.537807Z",
          "iopub.execute_input": "2024-04-08T14:26:42.538182Z",
          "iopub.status.idle": "2024-04-08T14:27:10.071858Z",
          "shell.execute_reply.started": "2024-04-08T14:26:42.538146Z",
          "shell.execute_reply": "2024-04-08T14:27:10.070011Z"
        },
        "trusted": true,
        "id": "pgc5xfQGIyta",
        "outputId": "cc85b550-b9e0-4441-c73a-c7cabfad49e2"
      },
      "execution_count": null,
      "outputs": [
        {
          "name": "stdout",
          "text": "The AUC score on the train set is: 0.764122917660593\nThe AUC score on the valid set is: 0.7512157223309048\nThe AUC score on the test set is: 0.7483072129459662\n",
          "output_type": "stream"
        }
      ]
    },
    {
      "cell_type": "code",
      "source": [
        "def gini_stability(base, w_fallingrate=88.0, w_resstd=-0.5):\n",
        "    gini_in_time = base.loc[:, [\"WEEK_NUM\", \"target\", \"score\"]]\\\n",
        "        .sort_values(\"WEEK_NUM\")\\\n",
        "        .groupby(\"WEEK_NUM\")[[\"target\", \"score\"]]\\\n",
        "        .apply(lambda x: 2*roc_auc_score(x[\"target\"], x[\"score\"])-1).tolist()\n",
        "\n",
        "    x = np.arange(len(gini_in_time))\n",
        "    y = gini_in_time\n",
        "    a, b = np.polyfit(x, y, 1)\n",
        "    y_hat = a*x + b\n",
        "    residuals = y - y_hat\n",
        "    res_std = np.std(residuals)\n",
        "    avg_gini = np.mean(gini_in_time)\n",
        "    return avg_gini + w_fallingrate * min(0, a) + w_resstd * res_std\n",
        "\n",
        "stability_score_train = gini_stability(base_train)\n",
        "stability_score_valid = gini_stability(base_valid)\n",
        "stability_score_test = gini_stability(base_test)\n",
        "\n",
        "print(f'The stability score on the train set is: {stability_score_train}')\n",
        "print(f'The stability score on the valid set is: {stability_score_valid}')\n",
        "print(f'The stability score on the test set is: {stability_score_test}')"
      ],
      "metadata": {
        "execution": {
          "iopub.status.busy": "2024-04-08T14:27:10.07374Z",
          "iopub.execute_input": "2024-04-08T14:27:10.074171Z",
          "iopub.status.idle": "2024-04-08T14:27:11.166296Z",
          "shell.execute_reply.started": "2024-04-08T14:27:10.074134Z",
          "shell.execute_reply": "2024-04-08T14:27:11.165338Z"
        },
        "trusted": true,
        "id": "JzDYb-7PIyta",
        "outputId": "7c864ac1-197c-400b-bf80-4e7891366874"
      },
      "execution_count": null,
      "outputs": [
        {
          "name": "stdout",
          "text": "The stability score on the train set is: 0.4976648127691175\nThe stability score on the valid set is: 0.4726726686264489\nThe stability score on the test set is: 0.4583643686935092\n",
          "output_type": "stream"
        }
      ]
    },
    {
      "cell_type": "markdown",
      "source": [
        "## Submission\n",
        "\n",
        "Scoring the submission dataset is below, we need to take care of new categories. Then we save the score as a last step."
      ],
      "metadata": {
        "id": "MJcRpYDMIyta"
      }
    },
    {
      "cell_type": "code",
      "source": [
        "X_submission = data_submission[cols_pred].to_pandas()\n",
        "X_submission = convert_strings(X_submission)\n",
        "categorical_cols = X_train.select_dtypes(include=['category']).columns\n",
        "\n",
        "for col in categorical_cols:\n",
        "    train_categories = set(X_train[col].cat.categories)\n",
        "    submission_categories = set(X_submission[col].cat.categories)\n",
        "    new_categories = submission_categories - train_categories\n",
        "    X_submission.loc[X_submission[col].isin(new_categories), col] = \"Unknown\"\n",
        "    new_dtype = pd.CategoricalDtype(categories=train_categories, ordered=True)\n",
        "    X_train[col] = X_train[col].astype(new_dtype)\n",
        "    X_submission[col] = X_submission[col].astype(new_dtype)\n",
        "\n",
        "y_submission_pred = gbm.predict(X_submission, num_iteration=gbm.best_iteration)"
      ],
      "metadata": {
        "execution": {
          "iopub.status.busy": "2024-04-08T14:27:11.167989Z",
          "iopub.execute_input": "2024-04-08T14:27:11.168843Z",
          "iopub.status.idle": "2024-04-08T14:27:11.281386Z",
          "shell.execute_reply.started": "2024-04-08T14:27:11.168809Z",
          "shell.execute_reply": "2024-04-08T14:27:11.280098Z"
        },
        "trusted": true,
        "id": "3RegM06-Iyta"
      },
      "execution_count": null,
      "outputs": []
    },
    {
      "cell_type": "code",
      "source": [
        "submission = pd.DataFrame({\n",
        "    \"case_id\": data_submission[\"case_id\"].to_numpy(),\n",
        "    \"score\": y_submission_pred\n",
        "}).set_index('case_id')\n",
        "submission.to_csv(\"./submission.csv\")"
      ],
      "metadata": {
        "execution": {
          "iopub.status.busy": "2024-04-08T14:27:11.282995Z",
          "iopub.execute_input": "2024-04-08T14:27:11.28379Z",
          "iopub.status.idle": "2024-04-08T14:27:11.293119Z",
          "shell.execute_reply.started": "2024-04-08T14:27:11.283744Z",
          "shell.execute_reply": "2024-04-08T14:27:11.291902Z"
        },
        "trusted": true,
        "id": "Uddl76EEIytb"
      },
      "execution_count": null,
      "outputs": []
    },
    {
      "cell_type": "markdown",
      "source": [
        "Best of luck, and most importantly, enjoy the process of learning and discovery!\n",
        "\n",
        "<img src=\"https://i.imgur.com/obVWIBh.png\" alt=\"Image\" width=\"700\"/>"
      ],
      "metadata": {
        "id": "1nyML4yjIytb"
      }
    }
  ]
}